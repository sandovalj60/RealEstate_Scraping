{
 "cells": [
  {
   "cell_type": "code",
   "execution_count": 4,
   "id": "ae995bb1",
   "metadata": {},
   "outputs": [
    {
     "name": "stdout",
     "output_type": "stream",
     "text": [
      "🔍 Found 25 listings\n",
      "📄 Scraping complete. Data saved to perth_properties.csv\n"
     ]
    }
   ],
   "source": [
    "import csv\n",
    "import time\n",
    "import undetected_chromedriver as uc\n",
    "from selenium.webdriver.common.by import By\n",
    "\n",
    "# Setup stealth Chrome\n",
    "options = uc.ChromeOptions()\n",
    "options.add_argument(\"--window-size=1920,1080\")\n",
    "\n",
    "driver = uc.Chrome(options=options, headless=False)\n",
    "\n",
    "# Target URL\n",
    "url = \"https://www.realestate.com.au/buy/property-house-townhouse-unit+apartment-villa-between-0-550000-in-perth+-+cbd+and+inner+suburbs,+wa/list-1?misc=ex-under-contract&source=refinement\"\n",
    "driver.get(url)\n",
    "time.sleep(5)\n",
    "\n",
    "# Extract listings\n",
    "cards = driver.find_elements(By.CLASS_NAME, \"residential-card__content-wrapper\")\n",
    "print(f\"🔍 Found {len(cards)} listings\")\n",
    "\n",
    "# Prepare CSV\n",
    "with open(\"perth_properties.csv\", mode=\"w\", newline=\"\", encoding=\"utf-8\") as file:\n",
    "    writer = csv.writer(file)\n",
    "    writer.writerow([\"Address\", \"Link\", \"Bedrooms\", \"Bathrooms\", \"Parking\", \"Area\", \"Type\"])\n",
    "\n",
    "    for card in cards:\n",
    "        try:\n",
    "            address_el = card.find_element(By.CLASS_NAME, \"residential-card__address-heading\")\n",
    "            address = address_el.text\n",
    "            link = address_el.find_element(By.TAG_NAME, \"a\").get_attribute(\"href\")\n",
    "            full_link = \"https://www.realestate.com.au\" + link\n",
    "\n",
    "            features = card.find_elements(By.CSS_SELECTOR, \"ul.residential-card__primary li\")\n",
    "            beds = baths = cars = area = \"\"\n",
    "            for f in features:\n",
    "                label = f.get_attribute(\"aria-label\").lower()\n",
    "                if \"bedroom\" in label:\n",
    "                    beds = label\n",
    "                elif \"bathroom\" in label:\n",
    "                    baths = label\n",
    "                elif \"car space\" in label:\n",
    "                    cars = label\n",
    "                elif \"m²\" in label or \"building size\" in label:\n",
    "                    area = label\n",
    "\n",
    "            try:\n",
    "                prop_type = card.find_element(By.CSS_SELECTOR, \"ul.residential-card__primary p\").text\n",
    "            except:\n",
    "                prop_type = \"\"\n",
    "\n",
    "            writer.writerow([address, full_link, beds, baths, cars, area, prop_type])\n",
    "        except Exception as e:\n",
    "            print(f\"❌ Error parsing card: {e}\")\n",
    "\n",
    "driver.quit()\n",
    "print(\"📄 Scraping complete. Data saved to perth_properties.csv\")"
   ]
  },
  {
   "cell_type": "code",
   "execution_count": null,
   "id": "788d696b",
   "metadata": {},
   "outputs": [],
   "source": []
  }
 ],
 "metadata": {
  "kernelspec": {
   "display_name": "Python 3.13 (tech_env)",
   "language": "python",
   "name": "tech_env"
  },
  "language_info": {
   "codemirror_mode": {
    "name": "ipython",
    "version": 3
   },
   "file_extension": ".py",
   "mimetype": "text/x-python",
   "name": "python",
   "nbconvert_exporter": "python",
   "pygments_lexer": "ipython3",
   "version": "3.13.7"
  }
 },
 "nbformat": 4,
 "nbformat_minor": 5
}
